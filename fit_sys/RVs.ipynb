{
 "cells": [
  {
   "cell_type": "code",
   "execution_count": 1,
   "metadata": {
    "collapsed": true
   },
   "outputs": [],
   "source": [
    "import numpy as np\n",
    "import matplotlib.pyplot as plt\n",
    "from math import pi"
   ]
  },
  {
   "cell_type": "code",
   "execution_count": 2,
   "metadata": {
    "collapsed": true
   },
   "outputs": [],
   "source": [
    "blobs = ['G3', 'G4', 'G5']\n",
    "cols  = ['blue', 'green', 'red']"
   ]
  },
  {
   "cell_type": "code",
   "execution_count": 23,
   "metadata": {},
   "outputs": [
    {
     "data": {
      "image/png": "[encoded data removed]",
      "text/plain": [
       "<matplotlib.figure.Figure at 0x117434750>"
      ]
     },
     "metadata": {},
     "output_type": "display_data"
    }
   ],
   "source": [
    "for i in range(0, len(blobs)):\n",
    "    blob = blobs[i]\n",
    "    col  = cols[i]\n",
    "    datR = np.loadtxt('./'+blob+'.rv') \n",
    "    err  = np.sqrt(datR[:,2]*datR[:,2] + 20*20.)\n",
    "    # Format: fracy RV e_RV MJD\n",
    "    plt.errorbar(datR[:,0],datR[:,1],yerr=err,ls='None',color=col, marker='o', markersize=4, label=blob)\n",
    "\n",
    "plt.ylabel('RV [km/s]')\n",
    "plt.xlabel('epoch')\n",
    "plt.title(blob + ' RV')\n",
    "\n",
    "plt.gcf().set_size_inches((10,5))\n",
    "plt.tight_layout()\n",
    "plt.savefig('./figs/'+blob+'_RVs_plot.png')\n",
    "plt.show()"
   ]
  },
  {
   "cell_type": "code",
   "execution_count": null,
   "metadata": {
    "collapsed": true
   },
   "outputs": [],
   "source": []
  }
 ],
 "metadata": {
  "kernelspec": {
   "display_name": "Python 2",
   "language": "python",
   "name": "python2"
  },
  "language_info": {
   "codemirror_mode": {
    "name": "ipython",
    "version": 2
   },
   "file_extension": ".py",
   "mimetype": "text/x-python",
   "name": "python",
   "nbconvert_exporter": "python",
   "pygments_lexer": "ipython2",
   "version": "2.7.14"
  }
 },
 "nbformat": 4,
 "nbformat_minor": 2
}
